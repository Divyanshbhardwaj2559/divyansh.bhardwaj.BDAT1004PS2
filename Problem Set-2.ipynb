{
 "cells": [
  {
   "cell_type": "code",
   "execution_count": 24,
   "id": "bb77b705",
   "metadata": {},
   "outputs": [],
   "source": [
    "#Question-1\n",
    "\n",
    "a = 0\n",
    "def b():\n",
    " global a\n",
    " a = c(a)\n",
    "def c(a):\n",
    " return a + 2"
   ]
  },
  {
   "cell_type": "code",
   "execution_count": 7,
   "id": "20abd8ec",
   "metadata": {},
   "outputs": [],
   "source": [
    "b()"
   ]
  },
  {
   "cell_type": "code",
   "execution_count": 8,
   "id": "5a74b07e",
   "metadata": {},
   "outputs": [],
   "source": [
    "b()"
   ]
  },
  {
   "cell_type": "code",
   "execution_count": 9,
   "id": "8c77c78b",
   "metadata": {},
   "outputs": [],
   "source": [
    "b()"
   ]
  },
  {
   "cell_type": "code",
   "execution_count": 10,
   "id": "35db8104",
   "metadata": {},
   "outputs": [
    {
     "data": {
      "text/plain": [
       "6"
      ]
     },
     "execution_count": 10,
     "metadata": {},
     "output_type": "execute_result"
    }
   ],
   "source": [
    "a\n"
   ]
  },
  {
   "cell_type": "code",
   "execution_count": 12,
   "id": "de4ad4de",
   "metadata": {},
   "outputs": [],
   "source": [
    "#Question-2\n",
    "\n",
    "def file_length(file_name):\n",
    "  try:\n",
    "    file = open(file_name)\n",
    "    contents = file.read()\n",
    "    file.close()\n",
    "    print(len(contents))\n",
    "  except FileNotFoundError as err:\n",
    "    print(f\"File not exist with the name {file_name}\")"
   ]
  },
  {
   "cell_type": "code",
   "execution_count": 13,
   "id": "29ca3779",
   "metadata": {},
   "outputs": [
    {
     "name": "stdout",
     "output_type": "stream",
     "text": [
      "123\n"
     ]
    }
   ],
   "source": [
    "file_length(\"Filelength.txt\")"
   ]
  },
  {
   "cell_type": "code",
   "execution_count": 14,
   "id": "f2ae6266",
   "metadata": {},
   "outputs": [
    {
     "data": {
      "text/plain": [
       "['doll', 'firetruck', 'kitten']"
      ]
     },
     "execution_count": 14,
     "metadata": {},
     "output_type": "execute_result"
    }
   ],
   "source": [
    "#Question-3\n",
    "\n",
    "class Marsupial:\n",
    "    data = []\n",
    "    def put_in_pouch(self,item, data = data):\n",
    "        self.item = item\n",
    "        data.append(self.item)\n",
    "    \n",
    "    def pouch_contents(self, data = data):\n",
    "        return data\n",
    "\n",
    "m = Marsupial()\n",
    "m.put_in_pouch('doll')\n",
    "m.put_in_pouch('firetruck')\n",
    "m.put_in_pouch('kitten')\n",
    "m.pouch_contents()"
   ]
  },
  {
   "cell_type": "code",
   "execution_count": 19,
   "id": "ed8e749f",
   "metadata": {},
   "outputs": [],
   "source": [
    "class kangaroo(Marsupial):\n",
    "    def __init__(self,x,y):\n",
    "        self.xinp=x\n",
    "        self.yinp=y\n",
    "    def jump(self,dx,dy):\n",
    "        self.xinp+=dx\n",
    "        self.yinp+=dy\n",
    "    def __str__(self):\n",
    "        return\"I am Kangaroo located at \"+ \"(\"+str(self.xinp)+\",\"+str(self.yinp) +\")\""
   ]
  },
  {
   "cell_type": "code",
   "execution_count": 20,
   "id": "20c9c2dc",
   "metadata": {},
   "outputs": [
    {
     "name": "stdout",
     "output_type": "stream",
     "text": [
      "I am Kangaroo located at (0,0)\n"
     ]
    },
    {
     "data": {
      "text/plain": [
       "['doll',\n",
       " 'firetruck',\n",
       " 'kitten',\n",
       " 'doll',\n",
       " 'firetruck',\n",
       " 'kitten',\n",
       " 'doll',\n",
       " 'firetruck',\n",
       " 'kitten',\n",
       " 'doll',\n",
       " 'firetruck',\n",
       " 'kitten']"
      ]
     },
     "execution_count": 20,
     "metadata": {},
     "output_type": "execute_result"
    }
   ],
   "source": [
    "k = kangaroo(0,0)\n",
    "print(k)\n",
    "k.put_in_pouch('doll')\n",
    "k.put_in_pouch('firetruck')\n",
    "k.put_in_pouch('kitten')\n",
    "k.pouch_contents()"
   ]
  },
  {
   "cell_type": "code",
   "execution_count": 21,
   "id": "c622379d",
   "metadata": {},
   "outputs": [
    {
     "name": "stdout",
     "output_type": "stream",
     "text": [
      "I am Kangaroo located at (3,0)\n"
     ]
    }
   ],
   "source": [
    "k.jump(1,0)\n",
    "k.jump(1,0)\n",
    "k.jump(1,0)\n",
    "print(k)"
   ]
  },
  {
   "cell_type": "code",
   "execution_count": 22,
   "id": "ea17297c",
   "metadata": {},
   "outputs": [
    {
     "name": "stdout",
     "output_type": "stream",
     "text": [
      "10\n",
      "5\n",
      "16\n",
      "8\n",
      "4\n",
      "2\n",
      "1\n",
      "1\n"
     ]
    }
   ],
   "source": [
    "#Question-4\n",
    "\n",
    "def collatz(num):\n",
    "  if num != 1:\n",
    "    if num % 2 == 0:\n",
    "      print(num)\n",
    "      num = num//2\n",
    "      collatz(num)\n",
    "    else:\n",
    "      print(num)\n",
    "      num = 3*num + 1\n",
    "      collatz(num)\n",
    "  if num == 1:\n",
    "    print(num)\n",
    "    exit()\n",
    "    \n",
    "collatz(10)"
   ]
  },
  {
   "cell_type": "code",
   "execution_count": 1,
   "id": "97540f5e",
   "metadata": {},
   "outputs": [
    {
     "name": "stdout",
     "output_type": "stream",
     "text": [
      "1001\n"
     ]
    }
   ],
   "source": [
    "#Question-5\n",
    "\n",
    "def binary(num):\n",
    "  print(f\"{num:b}\")\n",
    "\n",
    "binary(9)\n",
    "\n",
    "# binary(0)\n",
    "# binary(1)\n",
    "# binary(3)\n",
    "# binary(9)"
   ]
  },
  {
   "cell_type": "code",
   "execution_count": 2,
   "id": "03473cfd",
   "metadata": {},
   "outputs": [
    {
     "name": "stdout",
     "output_type": "stream",
     "text": [
      "W3C Mission\n",
      " Principles\n"
     ]
    }
   ],
   "source": [
    "#Question-6\n",
    "\n",
    "from html.parser import HTMLParser\n",
    "class HeadingParser(HTMLParser):\n",
    "  inHeading = False\n",
    "  count = -1\n",
    "  l = []\n",
    "\n",
    "  def handle_starttag(self, tag, attrs):\n",
    "    if tag in (\"h1\",\"h2\",\"h3\",\"h4\",\"h5\",\"h6\"):\n",
    "      self.inHeading = True\n",
    "      self.count += 1\n",
    "\n",
    "  def handle_data(self, data):\n",
    "    if self.inHeading:\n",
    "      if data.lstrip().rstrip().strip() != '':\n",
    "        print(\" \"*self.count+data.lstrip().rstrip().strip())\n",
    "\n",
    "  def handle_endtag(self, tag):\n",
    "    if tag in (\"h1\",\"h2\",\"h3\",\"h4\",\"h5\",\"h6\"):\n",
    "      self.inHeading = False\n",
    "\n",
    "\n",
    "infile = open('w3c.html')\n",
    "content = infile.read()\n",
    "infile.close()\n",
    "hp = HeadingParser()\n",
    "hp.feed(content)"
   ]
  },
  {
   "cell_type": "code",
   "execution_count": 29,
   "id": "c038e1ba",
   "metadata": {},
   "outputs": [],
   "source": [
    "#Question-7\n",
    "\n",
    "#ReferenceLink(https://www.geeksforgeeks.org/python-program-to-recursively-scrape-all-the-urls-of-the-website/)\n",
    "\n",
    "#pip install requests\n",
    "#pip install beautifulsoup4\n",
    "\n",
    "from bs4 import BeautifulSoup\n",
    "import requests\n",
    "\n",
    "links=[]\n",
    "   \n",
    "def website(imp):\n",
    "       \n",
    "    xyz = requests.get(imp)\n",
    "       \n",
    "    abc = BeautifulSoup(xyz.text,\"html.parser\")\n",
    "       \n",
    "    for z in abc.find_all(\"a\"):\n",
    "          \n",
    "        href = z.attrs['href']\n",
    "           \n",
    "        if href.startswith(\"/\"):\n",
    "            imp = imp+href\n",
    "               \n",
    "            if imp not in links:\n",
    "                links.append(imp) \n",
    "                print(imp)\n",
    "                website(imp)\n",
    "   \n",
    "if __name__ ==\"__main__\":\n",
    "   \n",
    "    imp=\"http://reed.cs.depaul.edu/lperkovic/csc242/test4.html\"\n",
    "    website(imp)"
   ]
  },
  {
   "cell_type": "code",
   "execution_count": 25,
   "id": "4ae2dbf7",
   "metadata": {},
   "outputs": [
    {
     "name": "stdout",
     "output_type": "stream",
     "text": [
      "The sql extension is already loaded. To reload it, use:\n",
      "  %reload_ext sql\n"
     ]
    }
   ],
   "source": [
    "#Question-8\n",
    "\n",
    "%load_ext sql\n",
    "%sql sqlite:///"
   ]
  },
  {
   "cell_type": "code",
   "execution_count": 7,
   "id": "9ada96b0",
   "metadata": {},
   "outputs": [
    {
     "name": "stdout",
     "output_type": "stream",
     "text": [
      " * sqlite:///\n",
      "Done.\n"
     ]
    },
    {
     "data": {
      "text/plain": [
       "[]"
      ]
     },
     "execution_count": 7,
     "metadata": {},
     "output_type": "execute_result"
    }
   ],
   "source": [
    "%%sql\n",
    "CREATE TABLE data(\n",
    "    city varchar(30),\n",
    "    country varchar(30),\n",
    "    season varchar(30),\n",
    "    temperature float(10),\n",
    "    rainfall  float(10)\n",
    ");"
   ]
  },
  {
   "cell_type": "code",
   "execution_count": 8,
   "id": "0612db63",
   "metadata": {},
   "outputs": [
    {
     "name": "stdout",
     "output_type": "stream",
     "text": [
      " * sqlite:///\n",
      "12 rows affected.\n"
     ]
    },
    {
     "data": {
      "text/plain": [
       "[]"
      ]
     },
     "execution_count": 8,
     "metadata": {},
     "output_type": "execute_result"
    }
   ],
   "source": [
    "%%sql\n",
    "INSERT INTO data VALUES\n",
    "('Mumbai','India', 'winter','24.8','5.9'),\n",
    "('Mumbai','India', 'spring','28.4','16.2'),\n",
    "('Mumbai','India', 'Summer','27.9','1549.4'),\n",
    "('Mumbai','India', 'fall','27.6','346.0'),\n",
    "('London','United Kingdom','winter','4.2','207.7'),\n",
    "('London','United Kingdom','sping','8.3','169.6'),\n",
    "('London','United Kingdom','summer','15.7','157.0'),\n",
    "('London','United Kingdom','fall','10.4','218.5'),\n",
    "('Cairo','Egypt', 'winter','13.6','16.5'),\n",
    "('Cairo','Egypt', 'spring','20.7','6.5'),\n",
    "('Cairo','Egypt', 'summer','27.7','0.1'),\n",
    "('Cairo','Egypt', 'fall','22.2','4.5');"
   ]
  },
  {
   "cell_type": "code",
   "execution_count": 9,
   "id": "34d9efaa",
   "metadata": {},
   "outputs": [
    {
     "name": "stdout",
     "output_type": "stream",
     "text": [
      " * sqlite:///\n",
      "Done.\n"
     ]
    },
    {
     "data": {
      "text/html": [
       "<table>\n",
       "    <tr>\n",
       "        <th>city</th>\n",
       "        <th>country</th>\n",
       "        <th>season</th>\n",
       "        <th>temperature</th>\n",
       "        <th>rainfall</th>\n",
       "    </tr>\n",
       "    <tr>\n",
       "        <td>Mumbai</td>\n",
       "        <td>India</td>\n",
       "        <td>winter</td>\n",
       "        <td>24.8</td>\n",
       "        <td>5.9</td>\n",
       "    </tr>\n",
       "    <tr>\n",
       "        <td>Mumbai</td>\n",
       "        <td>India</td>\n",
       "        <td>spring</td>\n",
       "        <td>28.4</td>\n",
       "        <td>16.2</td>\n",
       "    </tr>\n",
       "    <tr>\n",
       "        <td>Mumbai</td>\n",
       "        <td>India</td>\n",
       "        <td>Summer</td>\n",
       "        <td>27.9</td>\n",
       "        <td>1549.4</td>\n",
       "    </tr>\n",
       "    <tr>\n",
       "        <td>Mumbai</td>\n",
       "        <td>India</td>\n",
       "        <td>fall</td>\n",
       "        <td>27.6</td>\n",
       "        <td>346.0</td>\n",
       "    </tr>\n",
       "    <tr>\n",
       "        <td>London</td>\n",
       "        <td>United Kingdom</td>\n",
       "        <td>winter</td>\n",
       "        <td>4.2</td>\n",
       "        <td>207.7</td>\n",
       "    </tr>\n",
       "    <tr>\n",
       "        <td>London</td>\n",
       "        <td>United Kingdom</td>\n",
       "        <td>sping</td>\n",
       "        <td>8.3</td>\n",
       "        <td>169.6</td>\n",
       "    </tr>\n",
       "    <tr>\n",
       "        <td>London</td>\n",
       "        <td>United Kingdom</td>\n",
       "        <td>summer</td>\n",
       "        <td>15.7</td>\n",
       "        <td>157.0</td>\n",
       "    </tr>\n",
       "    <tr>\n",
       "        <td>London</td>\n",
       "        <td>United Kingdom</td>\n",
       "        <td>fall</td>\n",
       "        <td>10.4</td>\n",
       "        <td>218.5</td>\n",
       "    </tr>\n",
       "    <tr>\n",
       "        <td>Cairo</td>\n",
       "        <td>Egypt</td>\n",
       "        <td>winter</td>\n",
       "        <td>13.6</td>\n",
       "        <td>16.5</td>\n",
       "    </tr>\n",
       "    <tr>\n",
       "        <td>Cairo</td>\n",
       "        <td>Egypt</td>\n",
       "        <td>spring</td>\n",
       "        <td>20.7</td>\n",
       "        <td>6.5</td>\n",
       "    </tr>\n",
       "    <tr>\n",
       "        <td>Cairo</td>\n",
       "        <td>Egypt</td>\n",
       "        <td>summer</td>\n",
       "        <td>27.7</td>\n",
       "        <td>0.1</td>\n",
       "    </tr>\n",
       "    <tr>\n",
       "        <td>Cairo</td>\n",
       "        <td>Egypt</td>\n",
       "        <td>fall</td>\n",
       "        <td>22.2</td>\n",
       "        <td>4.5</td>\n",
       "    </tr>\n",
       "</table>"
      ],
      "text/plain": [
       "[('Mumbai', 'India', 'winter', 24.8, 5.9),\n",
       " ('Mumbai', 'India', 'spring', 28.4, 16.2),\n",
       " ('Mumbai', 'India', 'Summer', 27.9, 1549.4),\n",
       " ('Mumbai', 'India', 'fall', 27.6, 346.0),\n",
       " ('London', 'United Kingdom', 'winter', 4.2, 207.7),\n",
       " ('London', 'United Kingdom', 'sping', 8.3, 169.6),\n",
       " ('London', 'United Kingdom', 'summer', 15.7, 157.0),\n",
       " ('London', 'United Kingdom', 'fall', 10.4, 218.5),\n",
       " ('Cairo', 'Egypt', 'winter', 13.6, 16.5),\n",
       " ('Cairo', 'Egypt', 'spring', 20.7, 6.5),\n",
       " ('Cairo', 'Egypt', 'summer', 27.7, 0.1),\n",
       " ('Cairo', 'Egypt', 'fall', 22.2, 4.5)]"
      ]
     },
     "execution_count": 9,
     "metadata": {},
     "output_type": "execute_result"
    }
   ],
   "source": [
    "%sql select * from data;"
   ]
  },
  {
   "cell_type": "code",
   "execution_count": 10,
   "id": "7089d56c",
   "metadata": {},
   "outputs": [
    {
     "name": "stdout",
     "output_type": "stream",
     "text": [
      " * sqlite:///\n",
      "Done.\n"
     ]
    },
    {
     "data": {
      "text/html": [
       "<table>\n",
       "    <tr>\n",
       "        <th>temperature</th>\n",
       "    </tr>\n",
       "    <tr>\n",
       "        <td>24.8</td>\n",
       "    </tr>\n",
       "    <tr>\n",
       "        <td>28.4</td>\n",
       "    </tr>\n",
       "    <tr>\n",
       "        <td>27.9</td>\n",
       "    </tr>\n",
       "    <tr>\n",
       "        <td>27.6</td>\n",
       "    </tr>\n",
       "    <tr>\n",
       "        <td>4.2</td>\n",
       "    </tr>\n",
       "    <tr>\n",
       "        <td>8.3</td>\n",
       "    </tr>\n",
       "    <tr>\n",
       "        <td>15.7</td>\n",
       "    </tr>\n",
       "    <tr>\n",
       "        <td>10.4</td>\n",
       "    </tr>\n",
       "    <tr>\n",
       "        <td>13.6</td>\n",
       "    </tr>\n",
       "    <tr>\n",
       "        <td>20.7</td>\n",
       "    </tr>\n",
       "    <tr>\n",
       "        <td>27.7</td>\n",
       "    </tr>\n",
       "    <tr>\n",
       "        <td>22.2</td>\n",
       "    </tr>\n",
       "</table>"
      ],
      "text/plain": [
       "[(24.8,),\n",
       " (28.4,),\n",
       " (27.9,),\n",
       " (27.6,),\n",
       " (4.2,),\n",
       " (8.3,),\n",
       " (15.7,),\n",
       " (10.4,),\n",
       " (13.6,),\n",
       " (20.7,),\n",
       " (27.7,),\n",
       " (22.2,)]"
      ]
     },
     "execution_count": 10,
     "metadata": {},
     "output_type": "execute_result"
    }
   ],
   "source": [
    "#Question-8(a)\n",
    "\n",
    "%sql select temperature from data;"
   ]
  },
  {
   "cell_type": "code",
   "execution_count": 11,
   "id": "90733b0a",
   "metadata": {},
   "outputs": [
    {
     "name": "stdout",
     "output_type": "stream",
     "text": [
      " * sqlite:///\n",
      "Done.\n"
     ]
    },
    {
     "data": {
      "text/html": [
       "<table>\n",
       "    <tr>\n",
       "        <th>city</th>\n",
       "    </tr>\n",
       "    <tr>\n",
       "        <td>Mumbai</td>\n",
       "    </tr>\n",
       "    <tr>\n",
       "        <td>London</td>\n",
       "    </tr>\n",
       "    <tr>\n",
       "        <td>Cairo</td>\n",
       "    </tr>\n",
       "</table>"
      ],
      "text/plain": [
       "[('Mumbai',), ('London',), ('Cairo',)]"
      ]
     },
     "execution_count": 11,
     "metadata": {},
     "output_type": "execute_result"
    }
   ],
   "source": [
    "#Question-8(b)\n",
    "\n",
    "%sql select distinct city from data;"
   ]
  },
  {
   "cell_type": "code",
   "execution_count": 12,
   "id": "92ba2ba5",
   "metadata": {},
   "outputs": [
    {
     "name": "stdout",
     "output_type": "stream",
     "text": [
      " * sqlite:///\n",
      "Done.\n"
     ]
    },
    {
     "data": {
      "text/html": [
       "<table>\n",
       "    <tr>\n",
       "        <th>city</th>\n",
       "        <th>country</th>\n",
       "        <th>season</th>\n",
       "        <th>temperature</th>\n",
       "        <th>rainfall</th>\n",
       "    </tr>\n",
       "    <tr>\n",
       "        <td>Mumbai</td>\n",
       "        <td>India</td>\n",
       "        <td>winter</td>\n",
       "        <td>24.8</td>\n",
       "        <td>5.9</td>\n",
       "    </tr>\n",
       "    <tr>\n",
       "        <td>Mumbai</td>\n",
       "        <td>India</td>\n",
       "        <td>spring</td>\n",
       "        <td>28.4</td>\n",
       "        <td>16.2</td>\n",
       "    </tr>\n",
       "    <tr>\n",
       "        <td>Mumbai</td>\n",
       "        <td>India</td>\n",
       "        <td>Summer</td>\n",
       "        <td>27.9</td>\n",
       "        <td>1549.4</td>\n",
       "    </tr>\n",
       "    <tr>\n",
       "        <td>Mumbai</td>\n",
       "        <td>India</td>\n",
       "        <td>fall</td>\n",
       "        <td>27.6</td>\n",
       "        <td>346.0</td>\n",
       "    </tr>\n",
       "</table>"
      ],
      "text/plain": [
       "[('Mumbai', 'India', 'winter', 24.8, 5.9),\n",
       " ('Mumbai', 'India', 'spring', 28.4, 16.2),\n",
       " ('Mumbai', 'India', 'Summer', 27.9, 1549.4),\n",
       " ('Mumbai', 'India', 'fall', 27.6, 346.0)]"
      ]
     },
     "execution_count": 12,
     "metadata": {},
     "output_type": "execute_result"
    }
   ],
   "source": [
    "#Question-8(c)\n",
    "\n",
    "%sql select * from data where country = 'India';"
   ]
  },
  {
   "cell_type": "code",
   "execution_count": 13,
   "id": "a13e3c3a",
   "metadata": {},
   "outputs": [
    {
     "name": "stdout",
     "output_type": "stream",
     "text": [
      " * sqlite:///\n",
      "Done.\n"
     ]
    },
    {
     "data": {
      "text/html": [
       "<table>\n",
       "    <tr>\n",
       "        <th>city</th>\n",
       "        <th>country</th>\n",
       "        <th>season</th>\n",
       "        <th>temperature</th>\n",
       "        <th>rainfall</th>\n",
       "    </tr>\n",
       "    <tr>\n",
       "        <td>Mumbai</td>\n",
       "        <td>India</td>\n",
       "        <td>fall</td>\n",
       "        <td>27.6</td>\n",
       "        <td>346.0</td>\n",
       "    </tr>\n",
       "    <tr>\n",
       "        <td>London</td>\n",
       "        <td>United Kingdom</td>\n",
       "        <td>fall</td>\n",
       "        <td>10.4</td>\n",
       "        <td>218.5</td>\n",
       "    </tr>\n",
       "    <tr>\n",
       "        <td>Cairo</td>\n",
       "        <td>Egypt</td>\n",
       "        <td>fall</td>\n",
       "        <td>22.2</td>\n",
       "        <td>4.5</td>\n",
       "    </tr>\n",
       "</table>"
      ],
      "text/plain": [
       "[('Mumbai', 'India', 'fall', 27.6, 346.0),\n",
       " ('London', 'United Kingdom', 'fall', 10.4, 218.5),\n",
       " ('Cairo', 'Egypt', 'fall', 22.2, 4.5)]"
      ]
     },
     "execution_count": 13,
     "metadata": {},
     "output_type": "execute_result"
    }
   ],
   "source": [
    "#Question-8(d)\n",
    "\n",
    "%sql select * from data where season ='fall';"
   ]
  },
  {
   "cell_type": "code",
   "execution_count": 14,
   "id": "9130553d",
   "metadata": {},
   "outputs": [
    {
     "name": "stdout",
     "output_type": "stream",
     "text": [
      " * sqlite:///\n",
      "Done.\n"
     ]
    },
    {
     "data": {
      "text/html": [
       "<table>\n",
       "    <tr>\n",
       "        <th>city</th>\n",
       "        <th>country</th>\n",
       "        <th>season</th>\n",
       "    </tr>\n",
       "    <tr>\n",
       "        <td>Mumbai</td>\n",
       "        <td>India</td>\n",
       "        <td>fall</td>\n",
       "    </tr>\n",
       "    <tr>\n",
       "        <td>London</td>\n",
       "        <td>United Kingdom</td>\n",
       "        <td>winter</td>\n",
       "    </tr>\n",
       "    <tr>\n",
       "        <td>London</td>\n",
       "        <td>United Kingdom</td>\n",
       "        <td>fall</td>\n",
       "    </tr>\n",
       "</table>"
      ],
      "text/plain": [
       "[('Mumbai', 'India', 'fall'),\n",
       " ('London', 'United Kingdom', 'winter'),\n",
       " ('London', 'United Kingdom', 'fall')]"
      ]
     },
     "execution_count": 14,
     "metadata": {},
     "output_type": "execute_result"
    }
   ],
   "source": [
    "#Question-8(e)\n",
    "\n",
    "%sql select City, country, season from data where rainfall > 200 AND rainfall < 400;"
   ]
  },
  {
   "cell_type": "code",
   "execution_count": 15,
   "id": "dcf36edd",
   "metadata": {},
   "outputs": [
    {
     "name": "stdout",
     "output_type": "stream",
     "text": [
      " * sqlite:///\n",
      "Done.\n"
     ]
    },
    {
     "data": {
      "text/html": [
       "<table>\n",
       "    <tr>\n",
       "        <th>city</th>\n",
       "        <th>country</th>\n",
       "    </tr>\n",
       "    <tr>\n",
       "        <td>Cairo</td>\n",
       "        <td>Egypt</td>\n",
       "    </tr>\n",
       "    <tr>\n",
       "        <td>Mumbai</td>\n",
       "        <td>India</td>\n",
       "    </tr>\n",
       "</table>"
      ],
      "text/plain": [
       "[('Cairo', 'Egypt'), ('Mumbai', 'India')]"
      ]
     },
     "execution_count": 15,
     "metadata": {},
     "output_type": "execute_result"
    }
   ],
   "source": [
    "#Question-8(f)\n",
    "\n",
    "%sql select city, country from data where season = 'fall' And temperature > 20 ORDER BY temperature;"
   ]
  },
  {
   "cell_type": "code",
   "execution_count": 16,
   "id": "75749d08",
   "metadata": {},
   "outputs": [
    {
     "name": "stdout",
     "output_type": "stream",
     "text": [
      " * sqlite:///\n",
      "Done.\n"
     ]
    },
    {
     "data": {
      "text/html": [
       "<table>\n",
       "    <tr>\n",
       "        <th>sum(rainfall)</th>\n",
       "    </tr>\n",
       "    <tr>\n",
       "        <td>27.6</td>\n",
       "    </tr>\n",
       "</table>"
      ],
      "text/plain": [
       "[(27.6,)]"
      ]
     },
     "execution_count": 16,
     "metadata": {},
     "output_type": "execute_result"
    }
   ],
   "source": [
    "#Question-8(g)\n",
    "\n",
    "%sql select sum(rainfall) from data where city = 'Cairo';"
   ]
  },
  {
   "cell_type": "code",
   "execution_count": 17,
   "id": "d4353d19",
   "metadata": {},
   "outputs": [
    {
     "name": "stdout",
     "output_type": "stream",
     "text": [
      " * sqlite:///\n",
      "Done.\n"
     ]
    },
    {
     "data": {
      "text/html": [
       "<table>\n",
       "    <tr>\n",
       "        <th>sum(rainfall)</th>\n",
       "    </tr>\n",
       "    <tr>\n",
       "        <td>1549.4</td>\n",
       "    </tr>\n",
       "    <tr>\n",
       "        <td>569.0</td>\n",
       "    </tr>\n",
       "    <tr>\n",
       "        <td>169.6</td>\n",
       "    </tr>\n",
       "    <tr>\n",
       "        <td>22.7</td>\n",
       "    </tr>\n",
       "    <tr>\n",
       "        <td>157.1</td>\n",
       "    </tr>\n",
       "    <tr>\n",
       "        <td>230.1</td>\n",
       "    </tr>\n",
       "</table>"
      ],
      "text/plain": [
       "[(1549.4,), (569.0,), (169.6,), (22.7,), (157.1,), (230.1,)]"
      ]
     },
     "execution_count": 17,
     "metadata": {},
     "output_type": "execute_result"
    }
   ],
   "source": [
    "#Question-8(h)\n",
    "\n",
    "%sql select sum(rainfall) from data group by season;"
   ]
  },
  {
   "cell_type": "code",
   "execution_count": 23,
   "id": "343121ac",
   "metadata": {},
   "outputs": [
    {
     "name": "stdout",
     "output_type": "stream",
     "text": [
      "['THE', 'QUICK', 'BROWN', 'FOX', 'JUMPS', 'OVER', 'THE', 'LAZY', 'DOG']\n",
      "['the', 'quick', 'brown', 'fox', 'jumps', 'over', 'the', 'lazy', 'dog']\n",
      "[3, 5, 5, 3, 5, 4, 3, 4, 3]\n",
      "[['THE', 'the', 3], ['QUICK', 'quick', 5], ['BROWN', 'brown', 5], ['FOX', 'fox', 3], ['JUMPS', 'jumps', 5], ['OVER', 'over', 4], ['THE', 'the', 3], ['LAZY', 'lazy', 4], ['DOG', 'dog', 3]]\n",
      "['the', 'quick', 'brown', 'fox', 'jumps', 'over', 'the', 'lazy', 'dog']\n"
     ]
    }
   ],
   "source": [
    "#Question-9\n",
    "\n",
    "# a)\n",
    "def cap(lis):\n",
    "  if len(lis) != 0:\n",
    "    return [str(i).upper() for i in lis]\n",
    "  return -1\n",
    "\n",
    "# b)\n",
    "def small(lis):\n",
    "  if len(lis) != 0:\n",
    "    return [str(i).lower() for i in lis]\n",
    "  return -1\n",
    "\n",
    "# c)\n",
    "def length(lis):\n",
    "  if len(lis) != 0:\n",
    "    return [len(i) for i in lis]\n",
    "  return -1\n",
    "\n",
    "# d)\n",
    "def all_in_one(lis):\n",
    "  if len(lis) != 0:\n",
    "    return [[str(i).upper(),str(i).lower(),len(i)] for i in lis]\n",
    "  return -1\n",
    "\n",
    "# e)\n",
    "def list_of_words(lis):\n",
    "  if len(lis) != 0:\n",
    "    return [str(i).lower() for i in lis]\n",
    "  return -1\n",
    "\n",
    "\n",
    "words = ['The', 'quick', 'brown', 'fox', 'jumps', 'over',\n",
    "'the', 'lazy', 'dog']\n",
    "\n",
    "print(cap(words))\n",
    "print(small(words))\n",
    "print(length(words))\n",
    "print(all_in_one(words))\n",
    "print(list_of_words(words))\n"
   ]
  },
  {
   "cell_type": "code",
   "execution_count": null,
   "id": "4d7e4a24",
   "metadata": {},
   "outputs": [],
   "source": []
  }
 ],
 "metadata": {
  "kernelspec": {
   "display_name": "Python 3 (ipykernel)",
   "language": "python",
   "name": "python3"
  },
  "language_info": {
   "codemirror_mode": {
    "name": "ipython",
    "version": 3
   },
   "file_extension": ".py",
   "mimetype": "text/x-python",
   "name": "python",
   "nbconvert_exporter": "python",
   "pygments_lexer": "ipython3",
   "version": "3.9.12"
  }
 },
 "nbformat": 4,
 "nbformat_minor": 5
}
